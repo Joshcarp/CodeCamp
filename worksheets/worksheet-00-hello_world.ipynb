{
 "cells": [
  {
   "cell_type": "markdown",
   "metadata": {},
   "source": [
    "## Worksheet 00: Hello World #\n",
    "Now that python is all set up, let's dive into the basics of Python 3, and the jupyter scipting environment we are using. \n",
    "\n",
    "\n",
    "### How to Use Jupyter #\n",
    "Jupyter notebooks are a popular tool within the fields of Data Science and Machine Learning. Each worksheet provided is considered a __notebook__. Every notebook is comprised of many __cells__. This bit of text you're reading is in one!\n",
    "\n",
    "\n",
    "> To _select_ and edit code cells, simply click. To _edit_ a text cell, just double-click.\n",
    ">\n",
    "> Try double-click this cell right now! Press `Ctrl+Enter` to return it to normal.\n",
    "\n",
    "\n",
    "Each cell can contain either Python code or text. Every cell can be run/executed with the following keybindings:\n",
    "\n",
    "> To _run_ code within a cell, press `Ctrl+Enter`.\n",
    ">\n",
    "> To _run_ code within a cell and move down to the cell below, press `Shift+Enter`.\n",
    ">\n",
    "> Try running the code in the cells below!"
   ]
  },
  {
   "cell_type": "code",
   "execution_count": null,
   "metadata": {},
   "outputs": [],
   "source": [
    "print('Hello World')"
   ]
  },
  {
   "cell_type": "code",
   "execution_count": null,
   "metadata": {},
   "outputs": [],
   "source": [
    "a = input('What is your name? ')\n",
    "print('Hello', a)"
   ]
  },
  {
   "cell_type": "markdown",
   "metadata": {},
   "source": [
    "That's the basics! \n",
    "\n",
    "If you want to explore the full functionality of jupyter, such as adding new cells and deleting existing cells, explore the toolbar at the top of the page. Extra credit to those willing to dive into the keyboard shortcuts (located under Help > Keyboard Shortcuts)"
   ]
  }
 ],
 "metadata": {
  "kernelspec": {
   "display_name": "Python 3",
   "language": "python",
   "name": "python3"
  },
  "language_info": {
   "codemirror_mode": {
    "name": "ipython",
    "version": 3
   },
   "file_extension": ".py",
   "mimetype": "text/x-python",
   "name": "python",
   "nbconvert_exporter": "python",
   "pygments_lexer": "ipython3",
   "version": "3.7.3"
  }
 },
 "nbformat": 4,
 "nbformat_minor": 2
}
