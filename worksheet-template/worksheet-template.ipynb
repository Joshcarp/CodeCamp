{
 "cells": [
  {
   "cell_type": "markdown",
   "metadata": {},
   "source": [
    "## Worksheet ##: Python Topic #\n",
    "Below the title, a little bit of *theory* and `code` will be shown for the **benefit** of the reader.\n",
    "\n",
    "### Another Topic #\n",
    "Like this perhaps.\n",
    "\n",
    "#### Or Another #\n",
    "Can be shown with more or less hash symbols.\n",
    "\n",
    "Then a horizontal rule can be used to split the text up.\n",
    "***\n",
    "\n",
    "Dot points may be used to\n",
    "- Briefly\n",
    "- Outline\n",
    "- The\n",
    "- Ideas\n",
    "\n",
    "Or perhaps a list to\n",
    "1. Demonstrate\n",
    "2. Some\n",
    "3. Logic\n",
    "\n",
    "***\n",
    "Text may be quoted,\n",
    "> like such\n",
    ">> to show some\n",
    "> structure\n",
    "\n",
    "And math can be explored equally so, $ a + b^2 = c$\n",
    "\n",
    "But if all else fails, link them to some [sources](http://google.com)"
   ]
  },
  {
   "cell_type": "markdown",
   "metadata": {},
   "source": [
    "### Challenge 1 #\n",
    "Time for the student to write some code. Describe the problem and provide some `hints and helper code`. Here, let's create a simple function to calculate the area of a square."
   ]
  },
  {
   "cell_type": "code",
   "execution_count": null,
   "metadata": {},
   "outputs": [],
   "source": [
    "# Important packages\n",
    "from math import pi\n",
    "\n",
    "# Create a framework for the function\n",
    "def find_square_area(width):\n",
    "    \"\"\"Return the area of a square.\"\"\"\n",
    "    pass\n",
    "\n",
    "def find_circle_area(radius):\n",
    "    \"\"\"Return the area of a circle.\"\"\"\n",
    "    pass"
   ]
  },
  {
   "cell_type": "code",
   "execution_count": null,
   "metadata": {},
   "outputs": [],
   "source": [
    "# Import unit_test from local relative directory. This will be streamlined later.\n",
    "\n",
    "# Add unit-test folder to project paths\n",
    "import sys\n",
    "if r'..\\unit-test' not in sys.path:\n",
    "    sys.path.insert(0, r'..\\unit-test')\n",
    "\n",
    "from unit_test import UnitTest"
   ]
  },
  {
   "cell_type": "code",
   "execution_count": null,
   "metadata": {},
   "outputs": [],
   "source": [
    "# Test the functions\n"
   ]
  }
 ],
 "metadata": {
  "kernelspec": {
   "display_name": "Python 3",
   "language": "python",
   "name": "python3"
  },
  "language_info": {
   "codemirror_mode": {
    "name": "ipython",
    "version": 3
   },
   "file_extension": ".py",
   "mimetype": "text/x-python",
   "name": "python",
   "nbconvert_exporter": "python",
   "pygments_lexer": "ipython3",
   "version": "3.7.3"
  }
 },
 "nbformat": 4,
 "nbformat_minor": 2
}
